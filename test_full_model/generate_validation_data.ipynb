{
 "cells": [
  {
   "cell_type": "code",
   "execution_count": 27,
   "id": "2105dcd1-03fa-479f-abb3-98d01b5eecaa",
   "metadata": {},
   "outputs": [],
   "source": [
    "import re\n",
    "import eng_to_ipa as ipa\n",
    "import random"
   ]
  },
  {
   "cell_type": "code",
   "execution_count": 31,
   "id": "bf024150-383d-48c1-994b-a7558df0ca80",
   "metadata": {},
   "outputs": [],
   "source": [
    "validation_file = open('validation_dataset.txt')\n",
    "full_list = validation_file.readlines()\n",
    "full_list = [line.strip(\"\\n\") for line in full_list]\n",
    "random.shuffle(full_list)\n",
    "validation_output = open('valid_validation.txt' ,'w+', encoding='utf-8')"
   ]
  },
  {
   "cell_type": "code",
   "execution_count": 32,
   "id": "e17da00c-b4f9-462e-b241-61ea535f27bb",
   "metadata": {},
   "outputs": [
    {
     "name": "stdout",
     "output_type": "stream",
     "text": [
      "496\n"
     ]
    }
   ],
   "source": [
    "num_words = 0\n",
    "for line in full_list[:500]:\n",
    "    word = re.findall(r'\\S+', line)[-1].lower()\n",
    "    word = re.sub(r'[^a-zA-Z0-9]', '', word)\n",
    "    conversion = ipa.convert(word)\n",
    "    if(conversion != '*' and 'x' not in word):\n",
    "        num_words += 1\n",
    "        validation_output.write(word + '\\n')\n",
    "\n",
    "validation_output.close()\n",
    "print(num_words)"
   ]
  },
  {
   "cell_type": "code",
   "execution_count": null,
   "id": "f6697bac-9c79-4136-9840-fe76a7297399",
   "metadata": {},
   "outputs": [],
   "source": []
  }
 ],
 "metadata": {
  "kernelspec": {
   "display_name": "Python [conda env:laptop_sketchbook] *",
   "language": "python",
   "name": "conda-env-laptop_sketchbook-py"
  },
  "language_info": {
   "codemirror_mode": {
    "name": "ipython",
    "version": 3
   },
   "file_extension": ".py",
   "mimetype": "text/x-python",
   "name": "python",
   "nbconvert_exporter": "python",
   "pygments_lexer": "ipython3",
   "version": "3.7.16"
  }
 },
 "nbformat": 4,
 "nbformat_minor": 5
}
